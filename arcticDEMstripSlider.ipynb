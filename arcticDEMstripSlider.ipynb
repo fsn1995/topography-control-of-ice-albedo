{
 "cells": [
  {
   "cell_type": "code",
   "execution_count": 7,
   "metadata": {},
   "outputs": [],
   "source": [
    "import geemap\n",
    "import ee"
   ]
  },
  {
   "cell_type": "code",
   "execution_count": 8,
   "metadata": {},
   "outputs": [],
   "source": [
    "Map = geemap.Map()\n",
    "aoi = ee.Geometry.Polygon(\n",
    "         [[[-51.26670684036638, 71.10667904834996],\n",
    "           [-50.613642172036386, 69.35172505065574],\n",
    "           [-51.925886527866396, 67.4097894479071],\n",
    "           [-51.20992413915373, 66.27518798747208],\n",
    "           [-51.86713118464301, 66.04083709002118],\n",
    "           [-51.68516540592766, 65.85920268639616],\n",
    "           [-50.14610137161638, 63.77010325395928],\n",
    "           [-44.45518340286638, 63.62039597689339],\n",
    "           [-44.45518340286638, 71.06394313461017]]]) # dark zone connected ice\n",
    "\n",
    "# Display AOI on the map.\n",
    "Map.centerObject(aoi, 4)\n",
    "# Map.setOptions('HYBRID')\n",
    "# Map.addLayer(aoi, {'color': 'f8766d'}, 'AOI')\n",
    "\n"
   ]
  },
  {
   "cell_type": "code",
   "execution_count": 11,
   "metadata": {},
   "outputs": [],
   "source": [
    "date_start = ee.Date.fromYMD(2009, 8, 16)\n",
    "date_end = ee.Date.fromYMD(2017, 3, 12)\n",
    "\n",
    "# greenlandmask = ee.Image('OSU/GIMP/2000_ICE_OCEAN_MASK') \\\n",
    "#                       .select('ice_mask').eq(1)\n"
   ]
  },
  {
   "cell_type": "code",
   "execution_count": 14,
   "metadata": {},
   "outputs": [
    {
     "data": {
      "application/vnd.jupyter.widget-view+json": {
       "model_id": "b0031d609088431e90ac2b1581ef099d",
       "version_major": 2,
       "version_minor": 0
      },
      "text/plain": [
       "Map(bottom=1003.0, center=[67.23806155909902, -47.81250000000001], controls=(WidgetControl(options=['position'…"
      ]
     },
     "metadata": {},
     "output_type": "display_data"
    }
   ],
   "source": [
    "elevation = ee.ImageCollection('UMN/PGC/ArcticDEM/V3/2m') \\\n",
    "                  .filterBounds(aoi) \\\n",
    "                  .select('elevation')\n",
    "elevationVis = {\n",
    "  'min': -50.0,\n",
    "  'max': 1000.0,\n",
    "  'palette': ['0d13d8', '60e1ff', 'ffffff'],\n",
    "}\n",
    "\n",
    "# Difference in days between start and finish\n",
    "diff = date_end.difference(date_start, 'day')\n",
    "\n",
    "# Make a list of all dates\n",
    "dayNum = 1; # steps of day number\n",
    "\n",
    "def range_func(day):\n",
    "  return date_start.advance(day,'day')\n",
    "\n",
    "range = ee.List.sequence(0, diff.subtract(1), dayNum).map(range_func)\n",
    "\n",
    "# Function for iteration over the range of dates\n",
    "def day_mosaicsArcticDEM(date, newlist):\n",
    "  # Cast\n",
    "  date = ee.Date(date)\n",
    "  newlist = ee.List(newlist)\n",
    "\n",
    "  # Filter collection between date and the next day\n",
    "  filtered = elevation.filterDate(date, date.advance(dayNum,'day'))\n",
    "  # Make the mosaic\n",
    "  image = ee.Image(\n",
    "      filtered.mosaic().copyProperties(filtered.first())) \\\n",
    "      .set({'date': date.format('yyyy-MM-dd')}) \\\n",
    "      .set('system:time_start', filtered.first().get('system:time_start'))\n",
    "  \n",
    "  # Add the mosaic to a list only if the collection has images\n",
    "  return ee.List(ee.Algorithms.If(filtered.size(), newlist.add(image), newlist))\n",
    "\n",
    "arcticDEMdaily = ee.ImageCollection(ee.List(range.iterate(day_mosaicsArcticDEM, ee.List([]))))\n",
    "\n",
    "Map.addLayer(arcticDEMdaily, {}, \"elevation\", False)\n",
    "Map.add_time_slider(arcticDEMdaily, elevationVis)\n",
    "Map"
   ]
  }
 ],
 "metadata": {
  "interpreter": {
   "hash": "ada930dfaf49c70a7ee64ff67ccb5b3fcbf1b37de14f1a925a66f2c79ddc67d5"
  },
  "kernelspec": {
   "display_name": "Python 3.8.0 64-bit ('gee': conda)",
   "language": "python",
   "name": "python3"
  },
  "language_info": {
   "codemirror_mode": {
    "name": "ipython",
    "version": 3
   },
   "file_extension": ".py",
   "mimetype": "text/x-python",
   "name": "python",
   "nbconvert_exporter": "python",
   "pygments_lexer": "ipython3",
   "version": "3.8.0"
  },
  "orig_nbformat": 4
 },
 "nbformat": 4,
 "nbformat_minor": 2
}
